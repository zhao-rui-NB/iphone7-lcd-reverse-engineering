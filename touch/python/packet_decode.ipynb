{
 "cells": [
  {
   "cell_type": "code",
   "execution_count": 38,
   "id": "e09f8e93",
   "metadata": {},
   "outputs": [],
   "source": [
    "\n",
    "#  calc the checksum\n",
    "\n",
    "\n",
    "\n",
    "\n",
    "# while True:\n",
    "#     hex_str = input('Enter hex string (or \"exit\" to quit): ')\n",
    "#     if hex_str.lower() == 'exit':\n",
    "#         break\n",
    "#     res = calc_checksum(hex_str)\n",
    "#     print(f'Checksum: {res}')\n",
    "    "
   ]
  },
  {
   "cell_type": "code",
   "execution_count": 39,
   "id": "149a26fa",
   "metadata": {},
   "outputs": [
    {
     "name": "stdout",
     "output_type": "stream",
     "text": [
      "Data length: 4\n",
      "Checksum: DC\n"
     ]
    }
   ],
   "source": [
    "# header checksum\n",
    "\n",
    "data = \\\n",
    "'''\n",
    "  EA 02 38 00 \n",
    "'''\n",
    "# DC\n",
    "\n",
    "data = data.replace(' ', '').replace('\\n', '')\n",
    "\n",
    "data = [data[i:i+2] for i in range(0, len(data), 2)]\n",
    "data = [int(x, 16) for x in data]\n",
    "print(f'Data length: {len(data)}')\n",
    "\n",
    "\n",
    "def calc_checksum_header(data_bytes):\n",
    "    total = sum(data_bytes) & 0xFF  # 16-bit 加總\n",
    "    checksum = (~total + 1) & 0xFF  # Two's complement\n",
    "    return checksum\n",
    "\n",
    "checksum = calc_checksum_header(data)\n",
    "print(f'Checksum: {checksum:02X}')\n",
    "\n"
   ]
  },
  {
   "cell_type": "code",
   "execution_count": 40,
   "id": "37d37e84",
   "metadata": {},
   "outputs": [
    {
     "name": "stdout",
     "output_type": "stream",
     "text": [
      "Data length: 59\n",
      "Checksum: 06C2\n"
     ]
    }
   ],
   "source": [
    "# packet checksum\n",
    "\n",
    "data = \\\n",
    "'''\n",
    "  EA 02 38 00 DC 44 4C 18 02 82 61 A0 02 00 02 07\n",
    "  97 00 00 00 00 01 1E F8 FF 00 00 00 00 01 00 02\n",
    "  01 D0 03 B7 0F 00 00 00 00 00 00 00 00 00 40 00\n",
    "  00 00 00 00 00 00 00 00 00 00 00 \n",
    "'''\n",
    "# C2 06\n",
    "\n",
    "\n",
    "data = data.replace(' ', '').replace('\\n', '')\n",
    "\n",
    "data = [data[i:i+2] for i in range(0, len(data), 2)]\n",
    "data = [int(x, 16) for x in data]\n",
    "print(f'Data length: {len(data)}')\n",
    "\n",
    "\n",
    "def calc_checksum_packet(data_bytes):\n",
    "  total = sum(data_bytes) & 0xFFFF  # 16-bit 加總\n",
    "  checksum = (total-0x0200) & 0xFFFF  # Two's complement\n",
    "  return checksum\n",
    "\n",
    "checksum = calc_checksum_packet(data)\n",
    "print(f'Checksum: {checksum:04X}')\n",
    "\n"
   ]
  }
 ],
 "metadata": {
  "kernelspec": {
   "display_name": "Python 3",
   "language": "python",
   "name": "python3"
  },
  "language_info": {
   "codemirror_mode": {
    "name": "ipython",
    "version": 3
   },
   "file_extension": ".py",
   "mimetype": "text/x-python",
   "name": "python",
   "nbconvert_exporter": "python",
   "pygments_lexer": "ipython3",
   "version": "3.11.9"
  }
 },
 "nbformat": 4,
 "nbformat_minor": 5
}
