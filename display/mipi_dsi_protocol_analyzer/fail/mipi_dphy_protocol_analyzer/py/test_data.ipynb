{
 "cells": [
  {
   "cell_type": "code",
   "execution_count": 9,
   "id": "446875d3",
   "metadata": {},
   "outputs": [
    {
     "name": "stdout",
     "output_type": "stream",
     "text": [
      "160'b00001000_10001000_01001000_11001000_00101000_10101000_01101000_11101000_00011000_10011000_01011000_11011000_00111000_10111000_01111000_11111000_00000100_10000100_01000100_"
     ]
    }
   ],
   "source": [
    "# print 8 bit bin from 0 to 255\n",
    "n = 20\n",
    "print(f\"{n*8}'b\", end='')\n",
    "for i in range(0x10,0x10+n-1):\n",
    "    # print(f\"{i:08b}\", end='_')\n",
    "    # but need to print byte order reversed \n",
    "    print(f\"{i:08b}\"[::-1], end='_')\n",
    "    "
   ]
  },
  {
   "cell_type": "code",
   "execution_count": 13,
   "id": "6b1cf2b4",
   "metadata": {},
   "outputs": [
    {
     "name": "stdout",
     "output_type": "stream",
     "text": [
      "package: aa55000480808080fd0d\n",
      "checksum: f2\n"
     ]
    }
   ],
   "source": [
    "# calc 1'complement check sum for 8 bit\n",
    "\n",
    "s =  'AA 55 00 04 80 80 80 80 FD 0D'\n",
    "\n",
    "s = s.replace(' ', '')\n",
    "s = bytes.fromhex(s)\n",
    "s\n",
    "\n",
    "checksum = 0\n",
    "for i in s:\n",
    "    checksum += i\n",
    "    checksum &= 0xFF  # keep it to 8 bits\n",
    "checksum = ~checksum & 0xFF  # 1's complement\n",
    "\n",
    "print(f'package: {s.hex()}')\n",
    "print(f'checksum: {checksum:02x}')\n",
    "\n"
   ]
  },
  {
   "cell_type": "code",
   "execution_count": null,
   "id": "a24d57dd",
   "metadata": {},
   "outputs": [
    {
     "name": "stdout",
     "output_type": "stream",
     "text": [
      "b'\\x03' b'' 0\n",
      "payload: 000003\n",
      "checksum: fc\n",
      "frame: aa55000003fc0d\n"
     ]
    }
   ],
   "source": [
    "#  make frame\n",
    "\n",
    "# packet format:\n",
    "#     1. headers: 0x55, 0xAA\n",
    "#     2. length: 2 bytes (Big Endian)\n",
    "#     3. command/response: 1 byte\n",
    "#     4. data: (length bytes)\n",
    "#     5. checksum: 1 byte (1's complement of the sum of length, command/response, and data bytes)\n",
    "#     6. end: 0x0D\n",
    "\n",
    "# cmd = '01'\n",
    "# data = '87'*5\n",
    "\n",
    " \n",
    "# \n",
    "cmd = '01'\n",
    "data = '89 87 56 DD aA BB'\n",
    "# aa55000601898756ddaabb500d\n",
    "\n",
    "# read psram localparam CMD_READ_PSRAM = 8'h02; // read psram command\n",
    "# cmd = '02'\n",
    "# data = '00 00 00'\n",
    "# aa55000302000000fa0d\n",
    "\n",
    "# START RECORD\n",
    "cmd = '03'\n",
    "data = ''\n",
    "# aa55000003fc0d\n",
    "\n",
    "\n",
    "cmd = bytes.fromhex(cmd)\n",
    "data = bytes.fromhex(data)\n",
    "\n",
    "# len_data = len(bytes.fromhex(data))\n",
    "len_data = len(data)    \n",
    "print(cmd, data, len_data)\n",
    "\n",
    "\n",
    "payload = len_data.to_bytes(2, 'big') + cmd + data\n",
    "checksum = 0\n",
    "for i in payload:\n",
    "    checksum += i\n",
    "    checksum &= 0xFF  # keep it to 8 bits\n",
    "checksum = ~checksum & 0xFF  # 1's complement\n",
    "\n",
    "print(f'payload: {payload.hex()}')\n",
    "print(f'checksum: {checksum:02x}')\n",
    "\n",
    "frame = bytes.fromhex('AA55') + payload + bytes([checksum]) + bytes.fromhex('0D')\n",
    "print(f'frame: {frame.hex()}')\n"
   ]
  },
  {
   "cell_type": "code",
   "execution_count": null,
   "id": "7746f768",
   "metadata": {},
   "outputs": [],
   "source": []
  }
 ],
 "metadata": {
  "kernelspec": {
   "display_name": "Python 3",
   "language": "python",
   "name": "python3"
  },
  "language_info": {
   "codemirror_mode": {
    "name": "ipython",
    "version": 3
   },
   "file_extension": ".py",
   "mimetype": "text/x-python",
   "name": "python",
   "nbconvert_exporter": "python",
   "pygments_lexer": "ipython3",
   "version": "3.11.7"
  }
 },
 "nbformat": 4,
 "nbformat_minor": 5
}
