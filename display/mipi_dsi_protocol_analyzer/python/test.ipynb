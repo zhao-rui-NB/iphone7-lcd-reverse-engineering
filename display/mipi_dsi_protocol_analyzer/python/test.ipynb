{
 "cells": [
  {
   "cell_type": "code",
   "execution_count": 6,
   "id": "47eb4120",
   "metadata": {},
   "outputs": [
    {
     "name": "stdout",
     "output_type": "stream",
     "text": [
      "ff54\n",
      "[255, 84]\n"
     ]
    }
   ],
   "source": [
    "s = \"ff 54\"\n",
    "\n",
    "# str to bytes\n",
    "s_bytes = bytes.fromhex(s)\n",
    "\n",
    "print(s_bytes.hex())\n",
    "print(list(s_bytes))"
   ]
  }
 ],
 "metadata": {
  "kernelspec": {
   "display_name": "Python 3",
   "language": "python",
   "name": "python3"
  },
  "language_info": {
   "codemirror_mode": {
    "name": "ipython",
    "version": 3
   },
   "file_extension": ".py",
   "mimetype": "text/x-python",
   "name": "python",
   "nbconvert_exporter": "python",
   "pygments_lexer": "ipython3",
   "version": "3.11.9"
  }
 },
 "nbformat": 4,
 "nbformat_minor": 5
}
