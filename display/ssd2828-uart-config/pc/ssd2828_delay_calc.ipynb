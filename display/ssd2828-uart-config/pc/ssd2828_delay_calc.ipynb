{
 "cells": [
  {
   "cell_type": "code",
   "execution_count": 4,
   "metadata": {},
   "outputs": [
    {
     "name": "stdout",
     "output_type": "stream",
     "text": [
      "Data rate: 1200 Mbps\n",
      "ui: 8.33e-10 s\n",
      "Nibble clock period: 3.33e-09 s\n"
     ]
    }
   ],
   "source": [
    "# DATA_RATE_MBPS = 500\n",
    "# DATA_RATE_MBPS = 840\n",
    "DATA_RATE_MBPS = 650\n",
    "DATA_RATE_MBPS = 640\n",
    "DATA_RATE_MBPS = 1200\n",
    "\n",
    "\n",
    "ui = (DATA_RATE_MBPS*1e6) ** -1\n",
    "nibble_clk = 4 * ui\n",
    "\n",
    "print(f\"Data rate: {DATA_RATE_MBPS} Mbps\")\n",
    "print(f\"ui: {ui:.2e} s\")\n",
    "print(f\"Nibble clock period: {nibble_clk:.2e} s\")\n"
   ]
  },
  {
   "cell_type": "markdown",
   "metadata": {},
   "source": [
    "\n",
    "| reg address | datasheet page | reg name | desc | min time | max time | setting(include offset) | ic reg offset | \n",
    "| ----------- | -------------- | -------- | -----| -------- | -------- | ------------------------| ------------- |\n",
    "| 0xC9 | p54 | HZD    | hs zero delay     | 145n+10iu - HPD     |            | 105n+6ui |           |\n",
    "|      |     | HPD    | hs prepare delay  | 40n+4iu             | 85n+6iu    | 40n+4iu  | 4 nibble  |\n",
    "| 0xCA | p55 | CZD    | clk zero delay    | 300n - CPD          |            | 262n     |           |\n",
    "|      |     | CPD    | clk prepare delay | 38n                 | 95n        | 38n\t    | 3 nibble  |\n",
    "| 0xCB | p56 | CPED   | clk pre delay     | 8ui                 |            | 8ui      |           |\n",
    "|      |     | CPTD   | clk post delay    | 60n+52iu            |            | 60n+52ui |           |\n",
    "| 0xCC | p57 | CTD    | clk trail delay   | 60n                 |            | 60n      |           |\n",
    "|      |     | HTD    | hs trail delay    | 8ui and 60n+4ui     |            | 60n+4iu  |           |\n"
   ]
  },
  {
   "cell_type": "code",
   "execution_count": 5,
   "metadata": {},
   "outputs": [
    {
     "name": "stdout",
     "output_type": "stream",
     "text": [
      "hs_zero_delay: 110.00 ns\n",
      "hs_prepare_delay: 43.33 ns\n",
      "clk_zero_delay: 262.00 ns\n",
      "clk_prepare_delay: 38.00 ns\n",
      "clk_pre_delay: 6.67 ns\n",
      "clk_post_delay: 103.33 ns\n",
      "clk_trail_delay: 60.00 ns\n",
      "hs_trail_delay: 63.33 ns\n",
      "\n",
      "HZD = 33\n",
      "HPD = 10\n",
      "CZD = 79\n",
      "CPD = 9\n",
      "CPED = 2\n",
      "CPTD = 32\n",
      "CTD = 19\n",
      "HTD = 20\n"
     ]
    }
   ],
   "source": [
    "import math\n",
    "hs_zero_delay = 105*1e-9 + 6*ui\n",
    "hs_prepare_delay = 40*1e-9 + 4*ui\n",
    "\n",
    "clk_zero_delay = 262*1e-9\n",
    "clk_prepare_delay = 38*1e-9\n",
    "\n",
    "clk_pre_delay = 8*ui\n",
    "clk_post_delay = 60*1e-9 + 52*ui\n",
    "\n",
    "clk_trail_delay = 60*1e-9\n",
    "hs_trail_delay = 60*1e-9 + 4*ui\n",
    "\n",
    "# print as nano seconds \n",
    "print(f\"hs_zero_delay: {hs_zero_delay*1e9:.2f} ns\")\n",
    "print(f\"hs_prepare_delay: {hs_prepare_delay*1e9:.2f} ns\")\n",
    "print(f\"clk_zero_delay: {clk_zero_delay*1e9:.2f} ns\")\n",
    "print(f\"clk_prepare_delay: {clk_prepare_delay*1e9:.2f} ns\")\n",
    "print(f\"clk_pre_delay: {clk_pre_delay*1e9:.2f} ns\")\n",
    "print(f\"clk_post_delay: {clk_post_delay*1e9:.2f} ns\")\n",
    "print(f\"clk_trail_delay: {clk_trail_delay*1e9:.2f} ns\")\n",
    "print(f\"hs_trail_delay: {hs_trail_delay*1e9:.2f} ns\")\n",
    "print()\n",
    "\n",
    "# 無條件進位成整數\n",
    "HZD = math.ceil(hs_zero_delay/nibble_clk)\n",
    "HPD = math.ceil(hs_prepare_delay/nibble_clk - 4)\n",
    "\n",
    "CZD = math.ceil(clk_zero_delay/nibble_clk)\n",
    "CPD = math.ceil(clk_prepare_delay/nibble_clk - 3)\n",
    "\n",
    "CPED = math.ceil(clk_pre_delay/nibble_clk)\n",
    "CPTD = math.ceil(clk_post_delay/nibble_clk)\n",
    "\n",
    "CTD = math.ceil(clk_trail_delay/nibble_clk)\n",
    "HSD = math.ceil(hs_trail_delay/nibble_clk)\n",
    "\n",
    "\n",
    "\n",
    "print(f'HZD = {HZD}')\n",
    "print(f'HPD = {HPD}')\n",
    "print(f'CZD = {CZD}')\n",
    "print(f'CPD = {CPD}')\n",
    "print(f'CPED = {CPED}')\n",
    "print(f'CPTD = {CPTD}')\n",
    "print(f'CTD = {CTD}')\n",
    "print(f'HTD = {HSD}')"
   ]
  },
  {
   "cell_type": "code",
   "execution_count": 6,
   "metadata": {},
   "outputs": [
    {
     "name": "stdout",
     "output_type": "stream",
     "text": [
      "Data rate: 1200 Mbps\n",
      "ui: 8.33e-10 s\n",
      "Nibble clock period: 3.33e-09 s\n",
      "+------+-------------------+-----------+---------------+\n",
      "| REG  |     Delay Type    | Time (ns) | Rounded Value |\n",
      "+------+-------------------+-----------+---------------+\n",
      "| HZD  |   HS Zero Delay   |   110.00  |       33      |\n",
      "| HPD  |  HS Prepare Delay |   43.33   |       10      |\n",
      "| CZD  |   CLK Zero Delay  |   262.00  |       79      |\n",
      "| CPD  | CLK Prepare Delay |   38.00   |       9       |\n",
      "| CPED |   CLK Pre Delay   |    6.67   |       2       |\n",
      "| CPTD |   CLK Post Delay  |   103.33  |       32      |\n",
      "| CTD  |  CLK Trail Delay  |   60.00   |       19      |\n",
      "| HSD  |   HS Trail Delay  |   63.33   |       20      |\n",
      "+------+-------------------+-----------+---------------+\n"
     ]
    }
   ],
   "source": [
    "# pretty print table all calc result \n",
    "from prettytable import PrettyTable\n",
    "# 使用 PrettyTable 格式化輸出\n",
    "table = PrettyTable()\n",
    "\n",
    "# 設置表格欄位名稱\n",
    "table.field_names = [\"REG\", \"Delay Type\", \"Time (ns)\", \"Rounded Value\"]\n",
    "\n",
    "# 添加資料\n",
    "table.add_row([\"HZD\", \"HS Zero Delay\", f\"{hs_zero_delay * 1e9:.2f}\", HZD])\n",
    "table.add_row([\"HPD\", \"HS Prepare Delay\", f\"{hs_prepare_delay * 1e9:.2f}\", HPD])\n",
    "table.add_row([\"CZD\", \"CLK Zero Delay\", f\"{clk_zero_delay * 1e9:.2f}\", CZD])\n",
    "table.add_row([\"CPD\", \"CLK Prepare Delay\", f\"{clk_prepare_delay * 1e9:.2f}\", CPD])\n",
    "table.add_row([\"CPED\", \"CLK Pre Delay\", f\"{clk_pre_delay * 1e9:.2f}\", CPED])\n",
    "table.add_row([\"CPTD\", \"CLK Post Delay\", f\"{clk_post_delay * 1e9:.2f}\", CPTD])\n",
    "table.add_row([\"CTD\", \"CLK Trail Delay\", f\"{clk_trail_delay * 1e9:.2f}\", CTD])\n",
    "table.add_row([\"HSD\", \"HS Trail Delay\", f\"{hs_trail_delay * 1e9:.2f}\", HSD])\n",
    "\n",
    "# 輸出表格\n",
    "print(f\"Data rate: {DATA_RATE_MBPS} Mbps\")\n",
    "print(f\"ui: {ui:.2e} s\")\n",
    "print(f\"Nibble clock period: {nibble_clk:.2e} s\")\n",
    "print(table)"
   ]
  }
 ],
 "metadata": {
  "kernelspec": {
   "display_name": "Python 3",
   "language": "python",
   "name": "python3"
  },
  "language_info": {
   "codemirror_mode": {
    "name": "ipython",
    "version": 3
   },
   "file_extension": ".py",
   "mimetype": "text/x-python",
   "name": "python",
   "nbconvert_exporter": "python",
   "pygments_lexer": "ipython3",
   "version": "3.11.9"
  }
 },
 "nbformat": 4,
 "nbformat_minor": 2
}
